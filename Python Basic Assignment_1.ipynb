{
 "cells": [
  {
   "cell_type": "markdown",
   "metadata": {},
   "source": [
    "Q1 . In the below elements, which of them are values or an expression? eg:- values can be integer or string and expressions          will be mathematical operators.\n",
    "     * , 'hello' , -87.8, -, / , +, 6\n",
    "    \n",
    "Ans. * , -, /, + are expressions and -87.8, 'hello', 6 are values"
   ]
  },
  {
   "cell_type": "markdown",
   "metadata": {},
   "source": [
    "Q2 . What is the difference between string and variable?\n",
    "\n",
    "Ans. String is a value representing text, like words or statements enclosed within single quotes,double or triple quotes.\n",
    "     It is a data type for a sequence of characters.\n",
    "     Variable is a name that can store data of any kind of data type, like string,integer,boolean values,complex numbers,etc\n",
    "     \n",
    "     Eg:- x = \"Welcome to iNeuron\"\n",
    "     Here, 'x' is a variable which is storing string data type.\n",
    "     \"Welcome to iNeuron\" is a string."
   ]
  },
  {
   "cell_type": "markdown",
   "metadata": {},
   "source": [
    "Q3. Describe three different data types.\n",
    "\n",
    "Ans. Data types are the classification or categorization of data items. It represents the kind of value that tells what     operations can be performed on a particular data. \n",
    "The standard or built-in data types of python are - Numeric, Sequence type, Boolean, Set and Dictionary\n",
    "\n",
    "Numeric data type - In Python, numeric data type represent the data which has numeric value. Numeric value can be integer, floating number or even complex numbers. These values are defined as int, float and complex class in Python.\n",
    "\n",
    "Eg:- a = 8 , where 'a' is of int data type and it contains positive or negative whole numbers(without fraction or decimal)\n",
    "     b = 5.50 , where 'b' is of float data type and it contains real numbers with decimal point.\n",
    "     c = 6+8j , where 'c' is of complex data type and it contains real part and an imaginary part.\n",
    "\n",
    "Sequence type - In Python, sequence is the ordered collection of similar or different data types. Sequences allows to store multiple values in an organized and efficient fashion. Some of the sequence types in Python are - String, list and tuples.\n",
    "\n",
    "Eg:- d = \"Hello world\" , where 'd' is of string data type which is a collection of one or more characters enclosed with single      or double quotes and string is immutable.\n",
    "     e = [3, 5.67, True, \"hello\", 9+6j, [8, \"hi\", 9.05]] , where 'e' is a list containing ordered collection of data and is          both iterable and mutable.\n",
    "     f = (\"world\", 5, 29.0, True) , where 'f' is tuples containing ordered collection of data and is iterable but im-mutable.\n",
    "\n",
    "Set - In Python, Set is an unordered collection of data type that is iterable and has no duplicate elements.\n",
    "\n",
    "Eg:- f = {9, \"dbj\", 85.0, 5+8j, True, \"hbjd\"}"
   ]
  },
  {
   "cell_type": "markdown",
   "metadata": {},
   "source": [
    "Q4. What is an expression made of? What do all expressions do?\n",
    "\n",
    "Ans:-  An expression is a combination of values, variables, operators, and calls to functions. Expressions need to be\n",
    "       evaluated.\n",
    "       If you ask Python to print an expression,the interpreter evaluates the expression and displays the result, which is\n",
    "       always a value.\n",
    "      "
   ]
  },
  {
   "cell_type": "code",
   "execution_count": 2,
   "metadata": {},
   "outputs": [
    {
     "name": "stdout",
     "output_type": "stream",
     "text": [
      "2\n",
      "5\n"
     ]
    }
   ],
   "source": [
    "#example\n",
    "a = 1+1\n",
    "b = len(\"world\")\n",
    "print(a)\n",
    "print(b)"
   ]
  },
  {
   "cell_type": "code",
   "execution_count": 3,
   "metadata": {},
   "outputs": [],
   "source": [
    "#where '+' is additon operator and 'len' is built-in function that return the number of characters in a string."
   ]
  },
  {
   "cell_type": "markdown",
   "metadata": {},
   "source": [
    "Q5. This assignment statements like, spam = 10. What is the difference between an expression and a statement?\n",
    "\n",
    "Ans:- Statements represent an action or a command. Eg:- print statements, assignments statements.\n",
    "      Expression is a combination of variables, values and operations that yields a result value when evaluated.\n",
    "      In spam = 10, this is an assignment statement where 'spam' is a variable which is assigned to a value as 10. "
   ]
  },
  {
   "cell_type": "markdown",
   "metadata": {},
   "source": [
    "Q6. After running the following code, what does the variable bacon contain?\n",
    "    bacon = 22\n",
    "    bacon + 1"
   ]
  },
  {
   "cell_type": "code",
   "execution_count": 4,
   "metadata": {},
   "outputs": [
    {
     "data": {
      "text/plain": [
       "23"
      ]
     },
     "execution_count": 4,
     "metadata": {},
     "output_type": "execute_result"
    }
   ],
   "source": [
    "bacon = 22\n",
    "bacon + 1"
   ]
  },
  {
   "cell_type": "markdown",
   "metadata": {},
   "source": [
    "Q7. What should the values of the following two terms be?\n",
    "\n",
    "    'spam' + 'spamspam'\n",
    "    'spam' *3"
   ]
  },
  {
   "cell_type": "code",
   "execution_count": 6,
   "metadata": {},
   "outputs": [
    {
     "data": {
      "text/plain": [
       "'spamspamspam'"
      ]
     },
     "execution_count": 6,
     "metadata": {},
     "output_type": "execute_result"
    }
   ],
   "source": [
    "'spam' + 'spamspam'"
   ]
  },
  {
   "cell_type": "code",
   "execution_count": 7,
   "metadata": {},
   "outputs": [
    {
     "data": {
      "text/plain": [
       "'spamspamspam'"
      ]
     },
     "execution_count": 7,
     "metadata": {},
     "output_type": "execute_result"
    }
   ],
   "source": [
    "'spam'*3"
   ]
  },
  {
   "cell_type": "markdown",
   "metadata": {},
   "source": [
    "Both ('spam' + 'spamspam') and 'spam'*3 will yield the same result as 'spamspamspam' which is concatenation of string."
   ]
  },
  {
   "cell_type": "markdown",
   "metadata": {},
   "source": [
    "Q8. Why is eggs a valid variable name while 100 is invalid?\n",
    "\n",
    "Ans:- Variable names can be charaters,digits or can also include underscore characters but a variable name cannot start with\n",
    "      a digit."
   ]
  },
  {
   "cell_type": "markdown",
   "metadata": {},
   "source": [
    "Q9. What three functions can be used to get the integer, floating point number, or string version of a value?\n",
    "\n",
    "Ans:- int(), float() and str() can bee used to get integer, floating point number or string version of a value respectively."
   ]
  },
  {
   "cell_type": "markdown",
   "metadata": {},
   "source": [
    "Q10. Why does this expression cause an error? How can you fix it?\n",
    "     'I have eaten' + 99 + 'burritos'"
   ]
  },
  {
   "cell_type": "code",
   "execution_count": 11,
   "metadata": {},
   "outputs": [
    {
     "data": {
      "text/plain": [
       "'I have eaten 99 burritos'"
      ]
     },
     "execution_count": 11,
     "metadata": {},
     "output_type": "execute_result"
    }
   ],
   "source": [
    "#Answer\n",
    "'I have eaten' + ' 99 ' + 'burritos'"
   ]
  },
  {
   "cell_type": "code",
   "execution_count": 13,
   "metadata": {},
   "outputs": [
    {
     "data": {
      "text/plain": [
       "'I have eaten 99 burritos'"
      ]
     },
     "execution_count": 13,
     "metadata": {},
     "output_type": "execute_result"
    }
   ],
   "source": [
    "#Or\n",
    "'I have eaten 99 burritos'"
   ]
  },
  {
   "cell_type": "code",
   "execution_count": null,
   "metadata": {},
   "outputs": [],
   "source": []
  }
 ],
 "metadata": {
  "kernelspec": {
   "display_name": "Python 3",
   "language": "python",
   "name": "python3"
  },
  "language_info": {
   "codemirror_mode": {
    "name": "ipython",
    "version": 3
   },
   "file_extension": ".py",
   "mimetype": "text/x-python",
   "name": "python",
   "nbconvert_exporter": "python",
   "pygments_lexer": "ipython3",
   "version": "3.8.5"
  }
 },
 "nbformat": 4,
 "nbformat_minor": 4
}
