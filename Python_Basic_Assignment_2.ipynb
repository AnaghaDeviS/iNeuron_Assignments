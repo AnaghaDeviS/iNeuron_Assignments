{
 "cells": [
  {
   "cell_type": "markdown",
   "metadata": {},
   "source": [
    "Q1. What are the two values of the boolean data type? How do you write them?"
   ]
  },
  {
   "cell_type": "markdown",
   "metadata": {},
   "source": [
    "Boolean is one of the built-in data types of Python, which are defined by True or False keywords. Generally, it is used to represent the truth values of the expressions."
   ]
  },
  {
   "cell_type": "code",
   "execution_count": 6,
   "metadata": {},
   "outputs": [
    {
     "name": "stdout",
     "output_type": "stream",
     "text": [
      "<class 'bool'>\n",
      "<class 'bool'>\n"
     ]
    }
   ],
   "source": [
    "#for example\n",
    "a = True\n",
    "b = False\n",
    "print(type(a))\n",
    "print(type(b))\n",
    "\n",
    "#the output <class bool> indicates that the variable is of boolean data type."
   ]
  },
  {
   "cell_type": "markdown",
   "metadata": {},
   "source": [
    "Q2. What are the three different types of boolean operators?"
   ]
  },
  {
   "cell_type": "markdown",
   "metadata": {},
   "source": [
    "Boolean operations are simple arithmetic of True and False values. These values can be manipulated by the use of boolean operators - AND, OR, NOT."
   ]
  },
  {
   "cell_type": "code",
   "execution_count": 5,
   "metadata": {},
   "outputs": [
    {
     "name": "stdout",
     "output_type": "stream",
     "text": [
      "True\n",
      "False\n",
      "False\n",
      "True\n"
     ]
    }
   ],
   "source": [
    "#for example\n",
    "A = True\n",
    "B = False\n",
    "\n",
    "print(A or B)\n",
    "print(A and B)\n",
    "print(not A)\n",
    "print(not B)"
   ]
  },
  {
   "cell_type": "markdown",
   "metadata": {},
   "source": [
    "Q3. Make a list of each boolean operator's truth tables(i.e every possible combination of boolean values for the operator and what it evaluates)"
   ]
  },
  {
   "cell_type": "markdown",
   "metadata": {},
   "source": [
    "Boolean operators in python are \"and, or, not\". Boolean values are True and False.\n",
    "\n",
    "1.and - returns True only if both the operands are True. In any other case, False will be returned.\n",
    "For example, in (5<7) and (5>3) returns True because 5 is less than 7 and greater than 3.\n",
    "Below is and operator's truth table:\n",
    "   \n",
    "     \"\"\"First operand  Second operand  Result\n",
    "        True           True            False\n",
    "        True           False           False\n",
    "        False          False           False\n",
    "        False          True            False\"\"\"\n",
    "    \n",
    "2.or - returns True when one or both of the operands is True.If both the operands are False, False will be returned.\n",
    "For example, in the expression (5<3) or (3 == 3) returns True because second operand is True.\n",
    "Below is or operator's truth table:\n",
    "  \n",
    "     \"\"\"First operand  Second operand  Result\n",
    "        True           True            True\n",
    "        True           False           True\n",
    "        False          True            True\n",
    "        False          False           False\"\"\"\n",
    "     \n",
    "3.not - negates the truth value of a ssingle operand. True becomes false and vice - versa.\n",
    "Below is not operator's truth table:\n",
    "     \n",
    "     \"\"\"Operand   Result\n",
    "        True      False\n",
    "        False     True\"\"\"\n",
    "     "
   ]
  },
  {
   "cell_type": "markdown",
   "metadata": {},
   "source": [
    "Q4. What are the values of the following expressions?"
   ]
  },
  {
   "cell_type": "code",
   "execution_count": 5,
   "metadata": {},
   "outputs": [
    {
     "data": {
      "text/plain": [
       "False"
      ]
     },
     "execution_count": 5,
     "metadata": {},
     "output_type": "execute_result"
    }
   ],
   "source": [
    "(5 > 4) and (3 == 5)"
   ]
  },
  {
   "cell_type": "code",
   "execution_count": 6,
   "metadata": {},
   "outputs": [
    {
     "data": {
      "text/plain": [
       "False"
      ]
     },
     "execution_count": 6,
     "metadata": {},
     "output_type": "execute_result"
    }
   ],
   "source": [
    "not(5 > 4)"
   ]
  },
  {
   "cell_type": "code",
   "execution_count": 7,
   "metadata": {},
   "outputs": [
    {
     "data": {
      "text/plain": [
       "True"
      ]
     },
     "execution_count": 7,
     "metadata": {},
     "output_type": "execute_result"
    }
   ],
   "source": [
    "(5 > 4) or (3 == 5)"
   ]
  },
  {
   "cell_type": "code",
   "execution_count": 8,
   "metadata": {},
   "outputs": [
    {
     "data": {
      "text/plain": [
       "False"
      ]
     },
     "execution_count": 8,
     "metadata": {},
     "output_type": "execute_result"
    }
   ],
   "source": [
    "not((5>4) or (3==5))"
   ]
  },
  {
   "cell_type": "code",
   "execution_count": 9,
   "metadata": {},
   "outputs": [
    {
     "data": {
      "text/plain": [
       "False"
      ]
     },
     "execution_count": 9,
     "metadata": {},
     "output_type": "execute_result"
    }
   ],
   "source": [
    "(True and True) and (True == False)"
   ]
  },
  {
   "cell_type": "code",
   "execution_count": 10,
   "metadata": {},
   "outputs": [
    {
     "data": {
      "text/plain": [
       "True"
      ]
     },
     "execution_count": 10,
     "metadata": {},
     "output_type": "execute_result"
    }
   ],
   "source": [
    "(not False) or (not True)"
   ]
  },
  {
   "cell_type": "markdown",
   "metadata": {},
   "source": [
    "Q5. What are the six comparison operators?"
   ]
  },
  {
   "cell_type": "markdown",
   "metadata": {},
   "source": [
    "The six comparison operators are:-\n",
    "Less than,\n",
    "Greater than,\n",
    "Less than or equal to,\n",
    "Greater than or equal to,\n",
    "Equal to and\n",
    "Not equal to"
   ]
  },
  {
   "cell_type": "markdown",
   "metadata": {},
   "source": [
    "Q6. How do you tell the difference between equal to and assignment operators? Describe a condition and when you would use one?"
   ]
  },
  {
   "cell_type": "markdown",
   "metadata": {},
   "source": [
    "The '=\" is an assignment operator which is used to assign the value on the right to the variable on the left"
   ]
  },
  {
   "cell_type": "code",
   "execution_count": 2,
   "metadata": {},
   "outputs": [
    {
     "name": "stdout",
     "output_type": "stream",
     "text": [
      "xyz\n"
     ]
    }
   ],
   "source": [
    "#for example\n",
    "\n",
    "a = 10\n",
    "b = 20\n",
    "d = \"xyz\"\n",
    "print(d)"
   ]
  },
  {
   "cell_type": "markdown",
   "metadata": {},
   "source": [
    "The '==' operator checks whether the two given operands are equal or not. If so, it returns True. Otherwise it returns False."
   ]
  },
  {
   "cell_type": "code",
   "execution_count": 3,
   "metadata": {},
   "outputs": [
    {
     "data": {
      "text/plain": [
       "True"
      ]
     },
     "execution_count": 3,
     "metadata": {},
     "output_type": "execute_result"
    }
   ],
   "source": [
    "#for example\n",
    "\n",
    "5 == 5\n",
    "#this returns True"
   ]
  },
  {
   "cell_type": "markdown",
   "metadata": {},
   "source": [
    "Q7. Identify the three blocks in this code:"
   ]
  },
  {
   "cell_type": "code",
   "execution_count": 4,
   "metadata": {},
   "outputs": [
    {
     "name": "stdout",
     "output_type": "stream",
     "text": [
      "ham\n",
      "spam\n",
      "spam\n"
     ]
    }
   ],
   "source": [
    "spam = 0\n",
    "if spam == 10:   #first block\n",
    "    print('eggs')\n",
    "if spam > 5:     #second block\n",
    "    print('bacon')\n",
    "else:            #third block\n",
    "    print('ham')\n",
    "    print('spam')\n",
    "    print('spam')"
   ]
  },
  {
   "cell_type": "markdown",
   "metadata": {},
   "source": [
    "Q8. Write a code that prints Hello if 1 is stored in spam, prints Howdy if 2 is stored in spam and prints Greetigs!\n",
    "    if anything else is stored in spam?"
   ]
  },
  {
   "cell_type": "code",
   "execution_count": 5,
   "metadata": {},
   "outputs": [
    {
     "name": "stdout",
     "output_type": "stream",
     "text": [
      "Greetings!\n"
     ]
    }
   ],
   "source": [
    "spam = 5\n",
    "if spam == 1:\n",
    "    print(\"Hello\")\n",
    "if spam == 2:\n",
    "    print(\"Howdy\")\n",
    "else:\n",
    "    print(\"Greetings!\")"
   ]
  },
  {
   "cell_type": "markdown",
   "metadata": {},
   "source": [
    "Q9. If your program is stuck in an endless loop, what keys you'll press?"
   ]
  },
  {
   "cell_type": "markdown",
   "metadata": {},
   "source": [
    "Ctrl + C "
   ]
  },
  {
   "cell_type": "markdown",
   "metadata": {},
   "source": [
    "Q10. In a for loop what is the difference between range(10), range(0,10) and range(0,10,1)?"
   ]
  },
  {
   "cell_type": "markdown",
   "metadata": {},
   "source": [
    "range() is a built-in function of python. It is used when a user needs to perform an action for a specific number of times.\n",
    "In simple words, range() is used to generate a series of numbers within a given range. In Python, range() function is commonly used to iterate a sequence type(list, string, tupples,etc) with for and while loop.\n",
    "\n",
    "range() takes mainly three arguements:\n",
    "start - the starting number from which the sequence of numbers is to be returned.\n",
    "stop - the stop point before which the sequence of numbers is to be returned.range of numbers end at stop -1.\n",
    "step - the value which determines the increment or step size between each number in the sequence.\n",
    "\n",
    "range(stop) - takes one arguement. When user calls range() with one arguement, user will get a series of numbers starting from 0 till the number provided as stop, but excluding the number provided as stop.\n",
    "Example - range(10)\n",
    "\n",
    "range(start,stop) - takes two arguements.When user calls range() with two arguements, user will get a series of numbers starting from the number provided as start i.e including the number provided as start and will stop before the number provided as stop i.e excluding the number provided as stop.\n",
    "Example - range(0,10)\n",
    "\n",
    "range(start,stop,step) - takes three arguements. When user calls range() with three arguements, user will get a series of number starting from the number provided as start i.e including the number provided as start and will stop before the number provided as stop i.e excluding the number provided as stop with an increment provided as step size. If the step size is not mentioned, by default the step size will be one.\n",
    "Example - range(0,10,1)"
   ]
  },
  {
   "cell_type": "code",
   "execution_count": 5,
   "metadata": {},
   "outputs": [
    {
     "name": "stdout",
     "output_type": "stream",
     "text": [
      "0 1 2 3 4 5 6 7 8 9 "
     ]
    }
   ],
   "source": [
    "#output for range(10)\n",
    "for i in range(10):\n",
    "    print(i, end = \" \")    "
   ]
  },
  {
   "cell_type": "code",
   "execution_count": 3,
   "metadata": {},
   "outputs": [
    {
     "name": "stdout",
     "output_type": "stream",
     "text": [
      "0 1 2 3 4 5 6 7 8 9 "
     ]
    }
   ],
   "source": [
    "#output for range(0,10)\n",
    "for j in range(0,10):\n",
    "    print(j, end = \" \")"
   ]
  },
  {
   "cell_type": "code",
   "execution_count": 4,
   "metadata": {},
   "outputs": [
    {
     "name": "stdout",
     "output_type": "stream",
     "text": [
      "0 1 2 3 4 5 6 7 8 9 "
     ]
    }
   ],
   "source": [
    "#output for range(0,10,1)\n",
    "for k in range(0,10,1):\n",
    "    print(k, end = \" \")"
   ]
  },
  {
   "cell_type": "markdown",
   "metadata": {},
   "source": [
    "Q11. Write a short program that prints the numbers 1 to 10 using for loop. Then write an equivalent program that prints the numbers 1 to 10 using while loop."
   ]
  },
  {
   "cell_type": "code",
   "execution_count": 6,
   "metadata": {},
   "outputs": [
    {
     "name": "stdout",
     "output_type": "stream",
     "text": [
      "0\n",
      "1\n",
      "2\n",
      "3\n",
      "4\n",
      "5\n",
      "6\n",
      "7\n",
      "8\n",
      "9\n",
      "10\n"
     ]
    }
   ],
   "source": [
    "for i in range(11):\n",
    "    print(i)"
   ]
  },
  {
   "cell_type": "code",
   "execution_count": 7,
   "metadata": {},
   "outputs": [
    {
     "name": "stdout",
     "output_type": "stream",
     "text": [
      "0\n",
      "1\n",
      "2\n",
      "3\n",
      "4\n",
      "5\n",
      "6\n",
      "7\n",
      "8\n",
      "9\n",
      "10\n"
     ]
    }
   ],
   "source": [
    "i = 0\n",
    "while i < 11:\n",
    "    print(i)\n",
    "    i = i+1"
   ]
  },
  {
   "cell_type": "markdown",
   "metadata": {},
   "source": [
    "Q12. If you had a function named bacon() inside a module named spam(), how would you call it after importing spam?"
   ]
  },
  {
   "cell_type": "markdown",
   "metadata": {},
   "source": [
    "from spam import bacon\n",
    "\n",
    "#or\n",
    "\n",
    "import spam\n",
    "spam.bacon()"
   ]
  },
  {
   "cell_type": "markdown",
   "metadata": {},
   "source": [
    "Q13. How can you tell the difference between break and continue?"
   ]
  },
  {
   "cell_type": "markdown",
   "metadata": {},
   "source": [
    "Using loops in Python, automates and repeats the tasks in an efficient manner. But sometimes there may arise a condition\n",
    "where you want to exit the loop completely,skip an iteration or ignore that condition.These can be done by loop control \n",
    "statements.Loop control statements change execution from its normal sequence.\n",
    "Loop control statements are:\n",
    "\n",
    "break statement - is used to terminate the loop or statement in which it is present.After that, the conrol will pass to the statements that are present after break statement, if available, If the break statement is present in nested loop, then it terminates only those loops in which break is present.\n",
    "\n",
    "continue statement - is opposite to that of break statement, which instead of terminating the loop, it forces to execute the next iteration of the loop.When the continue statement is executed in the loop, the code inside the loop following the continue statement will be skipped and the next iteration of the loop will begin.\n",
    "\n",
    "pass statement - is used when a statement is required syntactically but you do not want any code to be executed. pass statement \n",
    "can also be used for writing empty loops."
   ]
  },
  {
   "cell_type": "code",
   "execution_count": 6,
   "metadata": {},
   "outputs": [
    {
     "name": "stdout",
     "output_type": "stream",
     "text": [
      "a\n",
      "s\n",
      "s\n",
      "i\n",
      "g\n",
      "n\n"
     ]
    }
   ],
   "source": [
    "#example for break\n",
    "a = \"assignment\"\n",
    "for i in a:\n",
    "    print(i)\n",
    "    if i == 'n':\n",
    "        break"
   ]
  },
  {
   "cell_type": "code",
   "execution_count": 9,
   "metadata": {},
   "outputs": [
    {
     "name": "stdout",
     "output_type": "stream",
     "text": [
      "1 2 3 4 5 6 8 9 "
     ]
    }
   ],
   "source": [
    "#example for continue\n",
    "for i in range(1,10):\n",
    "    if i == 7:\n",
    "        continue\n",
    "    else:\n",
    "        print(i, end = \" \")"
   ]
  },
  {
   "cell_type": "code",
   "execution_count": 17,
   "metadata": {},
   "outputs": [
    {
     "name": "stdout",
     "output_type": "stream",
     "text": [
      "p\n",
      "y\n",
      "t\n",
      "h\n",
      "o\n",
      "n\n"
     ]
    }
   ],
   "source": [
    "#example for pass\n",
    "def fun():\n",
    "    pass\n",
    "\n",
    "v = \"python\"\n",
    "for i in v:\n",
    "    pass\n",
    "\n",
    "for j in v:\n",
    "    if v == \"h\":\n",
    "        pass\n",
    "    print(j)\n",
    "    \n",
    "    "
   ]
  },
  {
   "cell_type": "code",
   "execution_count": null,
   "metadata": {},
   "outputs": [],
   "source": []
  }
 ],
 "metadata": {
  "kernelspec": {
   "display_name": "Python 3",
   "language": "python",
   "name": "python3"
  },
  "language_info": {
   "codemirror_mode": {
    "name": "ipython",
    "version": 3
   },
   "file_extension": ".py",
   "mimetype": "text/x-python",
   "name": "python",
   "nbconvert_exporter": "python",
   "pygments_lexer": "ipython3",
   "version": "3.8.5"
  }
 },
 "nbformat": 4,
 "nbformat_minor": 4
}
