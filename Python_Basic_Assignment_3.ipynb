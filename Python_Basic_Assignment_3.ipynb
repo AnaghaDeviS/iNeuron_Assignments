{
 "cells": [
  {
   "cell_type": "markdown",
   "metadata": {},
   "source": [
    "Q1. Why are functions advantageous to have in your programs?\n"
   ]
  },
  {
   "cell_type": "markdown",
   "metadata": {},
   "source": [
    "In Python, function is a collection of related statements designed to perform a computational, logical or evaluative task.\n",
    "Functions enable code reusability and modular programming. We can call a function to reuse the code contained in it again and again for different inputs.\n",
    "functions can be built-in or user-defined.It helps the program to be concise, non-repetitive and organized."
   ]
  },
  {
   "cell_type": "markdown",
   "metadata": {},
   "source": [
    "Q2. When does the code in a function run: when it's specified or when it's called?"
   ]
  },
  {
   "cell_type": "markdown",
   "metadata": {},
   "source": [
    "Once we have defined a function, we can call it from another function,program or even python prompt.\n",
    "To run the code in a function,you have to type the function name with appropriate parameters."
   ]
  },
  {
   "cell_type": "markdown",
   "metadata": {},
   "source": [
    "Q3. What statement creates a function?"
   ]
  },
  {
   "cell_type": "markdown",
   "metadata": {},
   "source": [
    "Function definition consists of the following components:\n",
    "\n",
    "\"\"\"\n",
    "   Keyword \"def\" that marks the start of the function header.\n",
    "   A function name to uniquely identify the function.\n",
    "   Parameters (arguements) through which we pass values to the function. They are optional.\n",
    "   A colon (:) to mark the end of the function header.\n",
    "   Optional documentation string(docstring) to describe what the function does.\n",
    "   One or more valid python statements that make up the body of the function.\n",
    "   An optional return statement to return a value from the function.\n",
    "\"\"\""
   ]
  },
  {
   "cell_type": "markdown",
   "metadata": {},
   "source": [
    "Q4. What is the difference between a function and function call?"
   ]
  },
  {
   "cell_type": "markdown",
   "metadata": {},
   "source": [
    "A function is piece of code designed to achieve a particular task. It enhances code resusability and modularity in programming.\n",
    "Function call means invoking or calling that function to perform that task."
   ]
  },
  {
   "cell_type": "markdown",
   "metadata": {},
   "source": [
    "Q5. How many global scopes are there in a python program? How many local scopes?"
   ]
  },
  {
   "cell_type": "markdown",
   "metadata": {},
   "source": [
    "Q6. What happens to variables in a local scope when the function call returns?"
   ]
  },
  {
   "cell_type": "code",
   "execution_count": null,
   "metadata": {},
   "outputs": [],
   "source": []
  }
 ],
 "metadata": {
  "kernelspec": {
   "display_name": "Python 3",
   "language": "python",
   "name": "python3"
  },
  "language_info": {
   "codemirror_mode": {
    "name": "ipython",
    "version": 3
   },
   "file_extension": ".py",
   "mimetype": "text/x-python",
   "name": "python",
   "nbconvert_exporter": "python",
   "pygments_lexer": "ipython3",
   "version": "3.8.5"
  }
 },
 "nbformat": 4,
 "nbformat_minor": 4
}
